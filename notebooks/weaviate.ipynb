{
 "cells": [
  {
   "cell_type": "markdown",
   "metadata": {},
   "source": [
    "### https://weaviate.io/developers/weaviate/model-providers/transformers/embeddings"
   ]
  },
  {
   "cell_type": "code",
   "execution_count": 34,
   "metadata": {},
   "outputs": [],
   "source": [
    "import weaviate\n",
    "from weaviate.classes.config import Configure, Property, DataType, VectorDistances\n",
    "client = weaviate.connect_to_custom(\n",
    "    http_host='127.0.0.1',\n",
    "    http_port=8080,\n",
    "    http_secure=False,\n",
    "    grpc_host='127.0.0.1',\n",
    "    grpc_port=50051,\n",
    "    grpc_secure=False,\n",
    ")\n",
    "\n",
    "client.collections.create(\n",
    "    \"long_term_memory\",\n",
    "    vectorizer_config=[\n",
    "        Configure.NamedVectors.text2vec_transformers(\n",
    "            name=\"text_vector\",\n",
    "            source_properties=[\"text\"],\n",
    "            vector_index_config=Configure.VectorIndex.hnsw(\n",
    "                distance_metric=VectorDistances.COSINE\n",
    "            )\n",
    "        )\n",
    "    ],\n",
    "    properties=[\n",
    "        Property(name=\"text\", data_type=DataType.TEXT),\n",
    "        Property(name=\"timestamp\", data_type=DataType.DATE),\n",
    "        Property(name=\"uuid\", data_type=DataType.UUID)\n",
    "    ]\n",
    ")\n",
    "\n",
    "client.close()"
   ]
  },
  {
   "cell_type": "code",
   "execution_count": 40,
   "metadata": {},
   "outputs": [
    {
     "name": "stdout",
     "output_type": "stream",
     "text": [
      "<weaviate.Collection config={\n",
      "  \"name\": \"Long_term_memory\",\n",
      "  \"description\": null,\n",
      "  \"generative_config\": null,\n",
      "  \"inverted_index_config\": {\n",
      "    \"bm25\": {\n",
      "      \"b\": 0.75,\n",
      "      \"k1\": 1.2\n",
      "    },\n",
      "    \"cleanup_interval_seconds\": 60,\n",
      "    \"index_null_state\": false,\n",
      "    \"index_property_length\": false,\n",
      "    \"index_timestamps\": false,\n",
      "    \"stopwords\": {\n",
      "      \"preset\": \"en\",\n",
      "      \"additions\": null,\n",
      "      \"removals\": null\n",
      "    }\n",
      "  },\n",
      "  \"multi_tenancy_config\": {\n",
      "    \"enabled\": false,\n",
      "    \"auto_tenant_creation\": false,\n",
      "    \"auto_tenant_activation\": false\n",
      "  },\n",
      "  \"properties\": [\n",
      "    {\n",
      "      \"name\": \"text\",\n",
      "      \"description\": null,\n",
      "      \"data_type\": \"text\",\n",
      "      \"index_filterable\": true,\n",
      "      \"index_range_filters\": false,\n",
      "      \"index_searchable\": true,\n",
      "      \"nested_properties\": null,\n",
      "      \"tokenization\": \"word\",\n",
      "      \"vectorizer_config\": null,\n",
      "      \"vectorizer\": null,\n",
      "      \"vectorizer_configs\": {\n",
      "        \"text2vec-transformers\": {\n",
      "          \"skip\": false,\n",
      "          \"vectorize_property_name\": true\n",
      "        }\n",
      "      }\n",
      "    },\n",
      "    {\n",
      "      \"name\": \"timestamp\",\n",
      "      \"description\": null,\n",
      "      \"data_type\": \"date\",\n",
      "      \"index_filterable\": true,\n",
      "      \"index_range_filters\": false,\n",
      "      \"index_searchable\": false,\n",
      "      \"nested_properties\": null,\n",
      "      \"tokenization\": null,\n",
      "      \"vectorizer_config\": null,\n",
      "      \"vectorizer\": null,\n",
      "      \"vectorizer_configs\": {\n",
      "        \"text2vec-transformers\": {\n",
      "          \"skip\": false,\n",
      "          \"vectorize_property_name\": true\n",
      "        }\n",
      "      }\n",
      "    },\n",
      "    {\n",
      "      \"name\": \"uuid\",\n",
      "      \"description\": null,\n",
      "      \"data_type\": \"uuid\",\n",
      "      \"index_filterable\": true,\n",
      "      \"index_range_filters\": false,\n",
      "      \"index_searchable\": false,\n",
      "      \"nested_properties\": null,\n",
      "      \"tokenization\": null,\n",
      "      \"vectorizer_config\": null,\n",
      "      \"vectorizer\": null,\n",
      "      \"vectorizer_configs\": {\n",
      "        \"text2vec-transformers\": {\n",
      "          \"skip\": false,\n",
      "          \"vectorize_property_name\": true\n",
      "        }\n",
      "      }\n",
      "    }\n",
      "  ],\n",
      "  \"references\": [],\n",
      "  \"replication_config\": {\n",
      "    \"factor\": 1,\n",
      "    \"async_enabled\": false,\n",
      "    \"deletion_strategy\": \"NoAutomatedResolution\"\n",
      "  },\n",
      "  \"reranker_config\": null,\n",
      "  \"sharding_config\": {\n",
      "    \"virtual_per_physical\": 128,\n",
      "    \"desired_count\": 1,\n",
      "    \"actual_count\": 1,\n",
      "    \"desired_virtual_count\": 128,\n",
      "    \"actual_virtual_count\": 128,\n",
      "    \"key\": \"_id\",\n",
      "    \"strategy\": \"hash\",\n",
      "    \"function\": \"murmur3\"\n",
      "  },\n",
      "  \"vector_index_config\": null,\n",
      "  \"vector_index_type\": null,\n",
      "  \"vectorizer_config\": null,\n",
      "  \"vectorizer\": null,\n",
      "  \"vector_config\": {\n",
      "    \"text_vector\": {\n",
      "      \"vectorizer\": {\n",
      "        \"vectorizer\": \"text2vec-transformers\",\n",
      "        \"model\": {\n",
      "          \"poolingStrategy\": \"masked_mean\",\n",
      "          \"vectorizeClassName\": true\n",
      "        },\n",
      "        \"source_properties\": [\n",
      "          \"text\"\n",
      "        ]\n",
      "      },\n",
      "      \"vector_index_config\": {\n",
      "        \"multi_vector\": null,\n",
      "        \"quantizer\": null,\n",
      "        \"cleanup_interval_seconds\": 300,\n",
      "        \"distance_metric\": \"cosine\",\n",
      "        \"dynamic_ef_min\": 100,\n",
      "        \"dynamic_ef_max\": 500,\n",
      "        \"dynamic_ef_factor\": 8,\n",
      "        \"ef\": -1,\n",
      "        \"ef_construction\": 128,\n",
      "        \"filter_strategy\": \"sweeping\",\n",
      "        \"flat_search_cutoff\": 40000,\n",
      "        \"max_connections\": 32,\n",
      "        \"skip\": false,\n",
      "        \"vector_cache_max_objects\": 1000000000000\n",
      "      }\n",
      "    }\n",
      "  }\n",
      "}>\n"
     ]
    }
   ],
   "source": [
    "import weaviate\n",
    "from weaviate.classes.config import Configure, Property, DataType, VectorDistances\n",
    "client = weaviate.connect_to_custom(\n",
    "    http_host='127.0.0.1',\n",
    "    http_port=8080,\n",
    "    http_secure=False,\n",
    "    grpc_host='127.0.0.1',\n",
    "    grpc_port=50051,\n",
    "    grpc_secure=False,\n",
    ")\n",
    "\n",
    "collection = client.collections.get(\"long_term_memory\")\n",
    "print(collection)\n",
    "\n",
    "client.close()\n",
    "\n"
   ]
  },
  {
   "cell_type": "code",
   "execution_count": 39,
   "metadata": {},
   "outputs": [
    {
     "name": "stdout",
     "output_type": "stream",
     "text": [
      "{'Long_term_memory': _CollectionConfigSimple(name='Long_term_memory', description=None, generative_config=None, properties=[_Property(name='text', description=None, data_type=<DataType.TEXT: 'text'>, index_filterable=True, index_range_filters=False, index_searchable=True, nested_properties=None, tokenization=<Tokenization.WORD: 'word'>, vectorizer_config=None, vectorizer=None, vectorizer_configs={'text2vec-transformers': _PropertyVectorizerConfig(skip=False, vectorize_property_name=True)}), _Property(name='timestamp', description=None, data_type=<DataType.DATE: 'date'>, index_filterable=True, index_range_filters=False, index_searchable=False, nested_properties=None, tokenization=None, vectorizer_config=None, vectorizer=None, vectorizer_configs={'text2vec-transformers': _PropertyVectorizerConfig(skip=False, vectorize_property_name=True)}), _Property(name='uuid', description=None, data_type=<DataType.UUID: 'uuid'>, index_filterable=True, index_range_filters=False, index_searchable=False, nested_properties=None, tokenization=None, vectorizer_config=None, vectorizer=None, vectorizer_configs={'text2vec-transformers': _PropertyVectorizerConfig(skip=False, vectorize_property_name=True)})], references=[], reranker_config=None, vectorizer_config=None, vectorizer=None, vector_config={'text_vector': _NamedVectorConfig(vectorizer=_NamedVectorizerConfig(vectorizer=<Vectorizers.TEXT2VEC_TRANSFORMERS: 'text2vec-transformers'>, model={'poolingStrategy': 'masked_mean', 'vectorizeClassName': True}, source_properties=['text']), vector_index_config=_VectorIndexConfigHNSW(multi_vector=None, quantizer=None, cleanup_interval_seconds=300, distance_metric=<VectorDistances.COSINE: 'cosine'>, dynamic_ef_min=100, dynamic_ef_max=500, dynamic_ef_factor=8, ef=-1, ef_construction=128, filter_strategy=<VectorFilterStrategy.SWEEPING: 'sweeping'>, flat_search_cutoff=40000, max_connections=32, skip=False, vector_cache_max_objects=1000000000000))})}\n"
     ]
    }
   ],
   "source": [
    "import weaviate\n",
    "from weaviate.classes.config import Configure, Property, DataType, VectorDistances\n",
    "client = weaviate.connect_to_custom(\n",
    "    http_host='127.0.0.1',\n",
    "    http_port=8080,\n",
    "    http_secure=False,\n",
    "    grpc_host='127.0.0.1',\n",
    "    grpc_port=50051,\n",
    "    grpc_secure=False,\n",
    ")\n",
    "\n",
    "collection = client.collections.list_all()\n",
    "print(collection)\n",
    "\n",
    "client.close()"
   ]
  },
  {
   "cell_type": "markdown",
   "metadata": {},
   "source": [
    "###### Call the URL: http://127.0.0.1:8080/v1/schema to check collection creation"
   ]
  },
  {
   "cell_type": "code",
   "execution_count": 41,
   "metadata": {},
   "outputs": [],
   "source": [
    "from datetime import datetime, timezone\n",
    "\n",
    "client = weaviate.connect_to_custom(\n",
    "    http_host='127.0.0.1',\n",
    "    http_port=8080,\n",
    "    http_secure=False,\n",
    "    grpc_host='127.0.0.1',\n",
    "    grpc_port=50051,\n",
    "    grpc_secure=False,\n",
    ")\n",
    "\n",
    "source_objects = [\n",
    "    {\"text\": \"Il mio piatto preferito e' la pizza margherita\"}\n",
    "]\n",
    "\n",
    "collection = client.collections.get(\"Long_term_memory\")\n",
    "\n",
    "local_time = datetime.now(timezone.utc).astimezone()\n",
    "\n",
    "with collection.batch.dynamic() as batch:\n",
    "    for src_obj in source_objects:\n",
    "        # The model provider integration will automatically vectorize the object\n",
    "        batch.add_object(\n",
    "            properties={\n",
    "                \"text\": src_obj[\"text\"],\n",
    "                \"timestamp\": local_time.isoformat()\n",
    "            },\n",
    "            # vector=vector  # Optionally provide a pre-obtained vector\n",
    "        )\n",
    "        if batch.number_errors > 10:\n",
    "            print(\"Batch import stopped due to excessive errors.\")\n",
    "            break\n",
    "\n",
    "failed_objects = collection.batch.failed_objects\n",
    "if failed_objects:\n",
    "    print(f\"Number of failed imports: {len(failed_objects)}\")\n",
    "    print(f\"First failed object: {failed_objects[0]}\")\n",
    "\n",
    "client.close()"
   ]
  },
  {
   "cell_type": "markdown",
   "metadata": {},
   "source": [
    "###### Call the URL: http://localhost:8080/v1/objects to check the Data import"
   ]
  },
  {
   "cell_type": "markdown",
   "metadata": {},
   "source": [
    "### Near Text Search (Semantic Search)"
   ]
  },
  {
   "cell_type": "code",
   "execution_count": 12,
   "metadata": {},
   "outputs": [
    {
     "name": "stdout",
     "output_type": "stream",
     "text": [
      "Il mio piatto preferito e' la pizza margherita\n"
     ]
    },
    {
     "name": "stderr",
     "output_type": "stream",
     "text": [
      "/Users/wasami/.local/share/uv/python/cpython-3.12.9-macos-aarch64-none/lib/python3.12/asyncio/selector_events.py:879: ResourceWarning: unclosed transport <_SelectorSocketTransport fd=105 read=idle write=<idle, bufsize=0>>\n",
      "  _warn(f\"unclosed transport {self!r}\", ResourceWarning, source=self)\n",
      "ResourceWarning: Enable tracemalloc to get the object allocation traceback\n"
     ]
    }
   ],
   "source": [
    "client = weaviate.connect_to_local()\n",
    "\n",
    "collection = client.collections.get(\"Long_term_memory\")\n",
    "\n",
    "response = collection.query.near_text(\n",
    "    query=\"Ti ricordi la mia pizza preferita ?\",  # The model provider integration will automatically vectorize the query\n",
    "    limit=1\n",
    ")\n",
    "\n",
    "for obj in response.objects:\n",
    "    print(obj.properties[\"text\"])\n",
    "\n",
    "client.close()"
   ]
  },
  {
   "cell_type": "markdown",
   "metadata": {},
   "source": [
    "### Near Text Search (Semantic Search) + Distance"
   ]
  },
  {
   "cell_type": "code",
   "execution_count": 14,
   "metadata": {},
   "outputs": [
    {
     "name": "stdout",
     "output_type": "stream",
     "text": [
      "Il mio piatto preferito e' la pizza margherita\n"
     ]
    }
   ],
   "source": [
    "from weaviate.classes.query import MetadataQuery\n",
    "\n",
    "client = weaviate.connect_to_local()\n",
    "\n",
    "collection = client.collections.get(\"Long_term_memory\")\n",
    "\n",
    "response = collection.query.near_text(\n",
    "    query=\"Ti ricordi quale pizza preferisco?\",  # The model provider integration will automatically vectorize the query\n",
    "    limit=1,\n",
    "    distance=0.30, # max accepted distance\n",
    "    return_metadata=MetadataQuery(distance=True)\n",
    ")\n",
    "\n",
    "for obj in response.objects:\n",
    "    print(obj.properties[\"text\"])\n",
    "\n",
    "client.close()"
   ]
  },
  {
   "cell_type": "markdown",
   "metadata": {},
   "source": [
    "### Hybrid Search"
   ]
  },
  {
   "cell_type": "code",
   "execution_count": 9,
   "metadata": {},
   "outputs": [
    {
     "name": "stdout",
     "output_type": "stream",
     "text": [
      "Mi chiamo Wasami, ho 12 anni, sono nato a Tokyo ma vivo a Monaco in Germania\n"
     ]
    }
   ],
   "source": [
    "client = weaviate.connect_to_local()\n",
    "collection = client.collections.get(\"Long_term_memory\")\n",
    "\n",
    "response = collection.query.hybrid(\n",
    "    query=\"quanti anni ho ?\",  # The model provider integration will automatically vectorize the query\n",
    "    limit=2\n",
    ")\n",
    "\n",
    "for obj in response.objects:\n",
    "    print(obj.properties[\"text\"])\n",
    "\n",
    "client.close()"
   ]
  }
 ],
 "metadata": {
  "kernelspec": {
   "display_name": ".venv",
   "language": "python",
   "name": "python3"
  },
  "language_info": {
   "codemirror_mode": {
    "name": "ipython",
    "version": 3
   },
   "file_extension": ".py",
   "mimetype": "text/x-python",
   "name": "python",
   "nbconvert_exporter": "python",
   "pygments_lexer": "ipython3",
   "version": "3.12.9"
  }
 },
 "nbformat": 4,
 "nbformat_minor": 2
}
